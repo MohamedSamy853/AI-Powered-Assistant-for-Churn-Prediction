{
 "cells": [
  {
   "cell_type": "markdown",
   "metadata": {},
   "source": [
    "## Objective\n",
    "The primary goal of this Proof of Concept (PoC) is to demonstrate the utilization of a Large Language Model (LLM) to facilitate customer churn prediction through a classification model. The focus of this PoC is not on optimizing the model or extensive feature engineering but rather on showcasing how the LLM can effectively extract relevant data from natural language inputs and integrate it with a classical machine learning model to make accurate predictions.\n",
    "\n",
    "This approach will help illustrate the potential of LLMs in enhancing the user experience by allowing non-technical stakeholders, such as the marketing team, to interact with the model in a natural and intuitive manner. The emphasis is on the LLM's ability to convert textual queries into structured data, which can then be passed to the classification model to make predictions. The output will be presented clearly and understandably, demonstrating the practical application of AI in a business context."
   ]
  },
  {
   "cell_type": "code",
   "execution_count": 2,
   "metadata": {},
   "outputs": [],
   "source": [
    "import numpy as np\n",
    "import pandas as pd\n",
    "import matplotlib.pyplot as plt\n",
    "import seaborn as sns\n",
    "import os , pickle\n",
    "from sklearn.model_selection import train_test_split  \n",
    "from sklearn.ensemble import RandomForestClassifier \n",
    "from sklearn.metrics import (accuracy_score , classification_report,\n",
    "                            confusion_matrix , ConfusionMatrixDisplay\n",
    "                            )\n",
    "from sklearn.model_selection import GridSearchCV , RandomizedSearchCV\n",
    "from sklearn.pipeline import Pipeline , make_pipeline "
   ]
  },
  {
   "cell_type": "code",
   "execution_count": 3,
   "metadata": {},
   "outputs": [
    {
     "data": {
      "text/html": [
       "<div>\n",
       "<style scoped>\n",
       "    .dataframe tbody tr th:only-of-type {\n",
       "        vertical-align: middle;\n",
       "    }\n",
       "\n",
       "    .dataframe tbody tr th {\n",
       "        vertical-align: top;\n",
       "    }\n",
       "\n",
       "    .dataframe thead th {\n",
       "        text-align: right;\n",
       "    }\n",
       "</style>\n",
       "<table border=\"1\" class=\"dataframe\">\n",
       "  <thead>\n",
       "    <tr style=\"text-align: right;\">\n",
       "      <th></th>\n",
       "      <th>Customerid</th>\n",
       "      <th>Gender</th>\n",
       "      <th>Senior_citizen</th>\n",
       "      <th>Is_married</th>\n",
       "      <th>Dependents</th>\n",
       "      <th>Tenure</th>\n",
       "      <th>Phone_service</th>\n",
       "      <th>Dual</th>\n",
       "      <th>Internet_service</th>\n",
       "      <th>Online_security</th>\n",
       "      <th>...</th>\n",
       "      <th>Device_protection</th>\n",
       "      <th>Tech_support</th>\n",
       "      <th>Streaming_tv</th>\n",
       "      <th>Streaming_movies</th>\n",
       "      <th>Contract</th>\n",
       "      <th>Paperless_billing</th>\n",
       "      <th>Payment_method</th>\n",
       "      <th>Monthly_charges</th>\n",
       "      <th>Total_charges</th>\n",
       "      <th>Churn</th>\n",
       "    </tr>\n",
       "  </thead>\n",
       "  <tbody>\n",
       "    <tr>\n",
       "      <th>0</th>\n",
       "      <td>7590-VHVEG</td>\n",
       "      <td>Female</td>\n",
       "      <td>0</td>\n",
       "      <td>Yes</td>\n",
       "      <td>No</td>\n",
       "      <td>1</td>\n",
       "      <td>No</td>\n",
       "      <td>No</td>\n",
       "      <td>DSL</td>\n",
       "      <td>No</td>\n",
       "      <td>...</td>\n",
       "      <td>No</td>\n",
       "      <td>No</td>\n",
       "      <td>No</td>\n",
       "      <td>No</td>\n",
       "      <td>Month-to-month</td>\n",
       "      <td>Yes</td>\n",
       "      <td>Electronic check</td>\n",
       "      <td>29.85</td>\n",
       "      <td>29.85</td>\n",
       "      <td>No</td>\n",
       "    </tr>\n",
       "    <tr>\n",
       "      <th>1</th>\n",
       "      <td>5575-GNVDE</td>\n",
       "      <td>Male</td>\n",
       "      <td>0</td>\n",
       "      <td>No</td>\n",
       "      <td>No</td>\n",
       "      <td>34</td>\n",
       "      <td>Yes</td>\n",
       "      <td>No</td>\n",
       "      <td>DSL</td>\n",
       "      <td>Yes</td>\n",
       "      <td>...</td>\n",
       "      <td>Yes</td>\n",
       "      <td>No</td>\n",
       "      <td>No</td>\n",
       "      <td>No</td>\n",
       "      <td>One year</td>\n",
       "      <td>No</td>\n",
       "      <td>Mailed check</td>\n",
       "      <td>56.95</td>\n",
       "      <td>1889.50</td>\n",
       "      <td>No</td>\n",
       "    </tr>\n",
       "    <tr>\n",
       "      <th>2</th>\n",
       "      <td>3668-QPYBK</td>\n",
       "      <td>Male</td>\n",
       "      <td>0</td>\n",
       "      <td>No</td>\n",
       "      <td>No</td>\n",
       "      <td>2</td>\n",
       "      <td>Yes</td>\n",
       "      <td>No</td>\n",
       "      <td>DSL</td>\n",
       "      <td>Yes</td>\n",
       "      <td>...</td>\n",
       "      <td>No</td>\n",
       "      <td>No</td>\n",
       "      <td>No</td>\n",
       "      <td>No</td>\n",
       "      <td>Month-to-month</td>\n",
       "      <td>Yes</td>\n",
       "      <td>Mailed check</td>\n",
       "      <td>53.85</td>\n",
       "      <td>108.15</td>\n",
       "      <td>Yes</td>\n",
       "    </tr>\n",
       "    <tr>\n",
       "      <th>3</th>\n",
       "      <td>7795-CFOCW</td>\n",
       "      <td>Male</td>\n",
       "      <td>0</td>\n",
       "      <td>No</td>\n",
       "      <td>No</td>\n",
       "      <td>45</td>\n",
       "      <td>No</td>\n",
       "      <td>No</td>\n",
       "      <td>DSL</td>\n",
       "      <td>Yes</td>\n",
       "      <td>...</td>\n",
       "      <td>Yes</td>\n",
       "      <td>Yes</td>\n",
       "      <td>No</td>\n",
       "      <td>No</td>\n",
       "      <td>One year</td>\n",
       "      <td>No</td>\n",
       "      <td>Bank transfer (automatic)</td>\n",
       "      <td>42.30</td>\n",
       "      <td>1840.75</td>\n",
       "      <td>No</td>\n",
       "    </tr>\n",
       "    <tr>\n",
       "      <th>4</th>\n",
       "      <td>9237-HQITU</td>\n",
       "      <td>Female</td>\n",
       "      <td>0</td>\n",
       "      <td>No</td>\n",
       "      <td>No</td>\n",
       "      <td>2</td>\n",
       "      <td>Yes</td>\n",
       "      <td>No</td>\n",
       "      <td>Fiber optic</td>\n",
       "      <td>No</td>\n",
       "      <td>...</td>\n",
       "      <td>No</td>\n",
       "      <td>No</td>\n",
       "      <td>No</td>\n",
       "      <td>No</td>\n",
       "      <td>Month-to-month</td>\n",
       "      <td>Yes</td>\n",
       "      <td>Electronic check</td>\n",
       "      <td>70.70</td>\n",
       "      <td>151.65</td>\n",
       "      <td>Yes</td>\n",
       "    </tr>\n",
       "  </tbody>\n",
       "</table>\n",
       "<p>5 rows × 21 columns</p>\n",
       "</div>"
      ],
      "text/plain": [
       "   Customerid  Gender  Senior_citizen Is_married Dependents  Tenure  \\\n",
       "0  7590-VHVEG  Female               0        Yes         No       1   \n",
       "1  5575-GNVDE    Male               0         No         No      34   \n",
       "2  3668-QPYBK    Male               0         No         No       2   \n",
       "3  7795-CFOCW    Male               0         No         No      45   \n",
       "4  9237-HQITU  Female               0         No         No       2   \n",
       "\n",
       "  Phone_service Dual Internet_service Online_security  ... Device_protection  \\\n",
       "0            No   No              DSL              No  ...                No   \n",
       "1           Yes   No              DSL             Yes  ...               Yes   \n",
       "2           Yes   No              DSL             Yes  ...                No   \n",
       "3            No   No              DSL             Yes  ...               Yes   \n",
       "4           Yes   No      Fiber optic              No  ...                No   \n",
       "\n",
       "  Tech_support Streaming_tv Streaming_movies        Contract  \\\n",
       "0           No           No               No  Month-to-month   \n",
       "1           No           No               No        One year   \n",
       "2           No           No               No  Month-to-month   \n",
       "3          Yes           No               No        One year   \n",
       "4           No           No               No  Month-to-month   \n",
       "\n",
       "  Paperless_billing             Payment_method Monthly_charges  Total_charges  \\\n",
       "0               Yes           Electronic check           29.85          29.85   \n",
       "1                No               Mailed check           56.95        1889.50   \n",
       "2               Yes               Mailed check           53.85         108.15   \n",
       "3                No  Bank transfer (automatic)           42.30        1840.75   \n",
       "4               Yes           Electronic check           70.70         151.65   \n",
       "\n",
       "   Churn  \n",
       "0     No  \n",
       "1     No  \n",
       "2    Yes  \n",
       "3     No  \n",
       "4    Yes  \n",
       "\n",
       "[5 rows x 21 columns]"
      ]
     },
     "execution_count": 3,
     "metadata": {},
     "output_type": "execute_result"
    }
   ],
   "source": [
    "data = pd.read_csv(\"../data/preb_churn_data.csv\")\n",
    "data.head()"
   ]
  },
  {
   "cell_type": "code",
   "execution_count": 5,
   "metadata": {},
   "outputs": [
    {
     "data": {
      "text/plain": [
       "True"
      ]
     },
     "execution_count": 5,
     "metadata": {},
     "output_type": "execute_result"
    }
   ],
   "source": [
    "data['Customerid'].is_unique"
   ]
  },
  {
   "cell_type": "code",
   "execution_count": 6,
   "metadata": {},
   "outputs": [],
   "source": [
    "data.drop(columns='Customerid' , inplace=True)"
   ]
  },
  {
   "cell_type": "code",
   "execution_count": 7,
   "metadata": {},
   "outputs": [],
   "source": [
    "data['Churn'] = data['Churn'].apply(lambda x : 0 if x == 'No' else 1).astype(int)"
   ]
  },
  {
   "cell_type": "code",
   "execution_count": 8,
   "metadata": {},
   "outputs": [],
   "source": [
    "mapping = {'Male':0 , 'Female':1 , 'Yes':1 , 'No':0 , 'No internet service':2 ,\n",
    "           'DSL':1 ,'Fiber optic':2 , 'Month-to-month':0 ,'One year':1 , 'Two year':2,\n",
    "           'Electronic check':0 ,'Mailed check':1 ,'Bank transfer (automatic)':2 ,'Credit card (automatic)':3   }"
   ]
  },
  {
   "cell_type": "code",
   "execution_count": 12,
   "metadata": {},
   "outputs": [],
   "source": [
    "for col in data.columns:\n",
    "    if data[col].dtype == object and col not in ['Churn', 'Senior_citizen']:\n",
    "        data[col] = data[col].apply(lambda x : mapping[x]).astype(int)"
   ]
  },
  {
   "cell_type": "code",
   "execution_count": 13,
   "metadata": {},
   "outputs": [
    {
     "data": {
      "text/html": [
       "<div>\n",
       "<style scoped>\n",
       "    .dataframe tbody tr th:only-of-type {\n",
       "        vertical-align: middle;\n",
       "    }\n",
       "\n",
       "    .dataframe tbody tr th {\n",
       "        vertical-align: top;\n",
       "    }\n",
       "\n",
       "    .dataframe thead th {\n",
       "        text-align: right;\n",
       "    }\n",
       "</style>\n",
       "<table border=\"1\" class=\"dataframe\">\n",
       "  <thead>\n",
       "    <tr style=\"text-align: right;\">\n",
       "      <th></th>\n",
       "      <th>Gender</th>\n",
       "      <th>Senior_citizen</th>\n",
       "      <th>Is_married</th>\n",
       "      <th>Dependents</th>\n",
       "      <th>Tenure</th>\n",
       "      <th>Phone_service</th>\n",
       "      <th>Dual</th>\n",
       "      <th>Internet_service</th>\n",
       "      <th>Online_security</th>\n",
       "      <th>Online_backup</th>\n",
       "      <th>Device_protection</th>\n",
       "      <th>Tech_support</th>\n",
       "      <th>Streaming_tv</th>\n",
       "      <th>Streaming_movies</th>\n",
       "      <th>Contract</th>\n",
       "      <th>Paperless_billing</th>\n",
       "      <th>Payment_method</th>\n",
       "      <th>Monthly_charges</th>\n",
       "      <th>Total_charges</th>\n",
       "      <th>Churn</th>\n",
       "    </tr>\n",
       "  </thead>\n",
       "  <tbody>\n",
       "    <tr>\n",
       "      <th>0</th>\n",
       "      <td>1</td>\n",
       "      <td>0</td>\n",
       "      <td>1</td>\n",
       "      <td>0</td>\n",
       "      <td>1</td>\n",
       "      <td>0</td>\n",
       "      <td>0</td>\n",
       "      <td>1</td>\n",
       "      <td>0</td>\n",
       "      <td>1</td>\n",
       "      <td>0</td>\n",
       "      <td>0</td>\n",
       "      <td>0</td>\n",
       "      <td>0</td>\n",
       "      <td>0</td>\n",
       "      <td>1</td>\n",
       "      <td>0</td>\n",
       "      <td>29.85</td>\n",
       "      <td>29.85</td>\n",
       "      <td>0</td>\n",
       "    </tr>\n",
       "    <tr>\n",
       "      <th>1</th>\n",
       "      <td>0</td>\n",
       "      <td>0</td>\n",
       "      <td>0</td>\n",
       "      <td>0</td>\n",
       "      <td>34</td>\n",
       "      <td>1</td>\n",
       "      <td>0</td>\n",
       "      <td>1</td>\n",
       "      <td>1</td>\n",
       "      <td>0</td>\n",
       "      <td>1</td>\n",
       "      <td>0</td>\n",
       "      <td>0</td>\n",
       "      <td>0</td>\n",
       "      <td>1</td>\n",
       "      <td>0</td>\n",
       "      <td>1</td>\n",
       "      <td>56.95</td>\n",
       "      <td>1889.50</td>\n",
       "      <td>0</td>\n",
       "    </tr>\n",
       "    <tr>\n",
       "      <th>2</th>\n",
       "      <td>0</td>\n",
       "      <td>0</td>\n",
       "      <td>0</td>\n",
       "      <td>0</td>\n",
       "      <td>2</td>\n",
       "      <td>1</td>\n",
       "      <td>0</td>\n",
       "      <td>1</td>\n",
       "      <td>1</td>\n",
       "      <td>1</td>\n",
       "      <td>0</td>\n",
       "      <td>0</td>\n",
       "      <td>0</td>\n",
       "      <td>0</td>\n",
       "      <td>0</td>\n",
       "      <td>1</td>\n",
       "      <td>1</td>\n",
       "      <td>53.85</td>\n",
       "      <td>108.15</td>\n",
       "      <td>1</td>\n",
       "    </tr>\n",
       "    <tr>\n",
       "      <th>3</th>\n",
       "      <td>0</td>\n",
       "      <td>0</td>\n",
       "      <td>0</td>\n",
       "      <td>0</td>\n",
       "      <td>45</td>\n",
       "      <td>0</td>\n",
       "      <td>0</td>\n",
       "      <td>1</td>\n",
       "      <td>1</td>\n",
       "      <td>0</td>\n",
       "      <td>1</td>\n",
       "      <td>1</td>\n",
       "      <td>0</td>\n",
       "      <td>0</td>\n",
       "      <td>1</td>\n",
       "      <td>0</td>\n",
       "      <td>2</td>\n",
       "      <td>42.30</td>\n",
       "      <td>1840.75</td>\n",
       "      <td>0</td>\n",
       "    </tr>\n",
       "    <tr>\n",
       "      <th>4</th>\n",
       "      <td>1</td>\n",
       "      <td>0</td>\n",
       "      <td>0</td>\n",
       "      <td>0</td>\n",
       "      <td>2</td>\n",
       "      <td>1</td>\n",
       "      <td>0</td>\n",
       "      <td>2</td>\n",
       "      <td>0</td>\n",
       "      <td>0</td>\n",
       "      <td>0</td>\n",
       "      <td>0</td>\n",
       "      <td>0</td>\n",
       "      <td>0</td>\n",
       "      <td>0</td>\n",
       "      <td>1</td>\n",
       "      <td>0</td>\n",
       "      <td>70.70</td>\n",
       "      <td>151.65</td>\n",
       "      <td>1</td>\n",
       "    </tr>\n",
       "  </tbody>\n",
       "</table>\n",
       "</div>"
      ],
      "text/plain": [
       "   Gender  Senior_citizen  Is_married  Dependents  Tenure  Phone_service  \\\n",
       "0       1               0           1           0       1              0   \n",
       "1       0               0           0           0      34              1   \n",
       "2       0               0           0           0       2              1   \n",
       "3       0               0           0           0      45              0   \n",
       "4       1               0           0           0       2              1   \n",
       "\n",
       "   Dual  Internet_service  Online_security  Online_backup  Device_protection  \\\n",
       "0     0                 1                0              1                  0   \n",
       "1     0                 1                1              0                  1   \n",
       "2     0                 1                1              1                  0   \n",
       "3     0                 1                1              0                  1   \n",
       "4     0                 2                0              0                  0   \n",
       "\n",
       "   Tech_support  Streaming_tv  Streaming_movies  Contract  Paperless_billing  \\\n",
       "0             0             0                 0         0                  1   \n",
       "1             0             0                 0         1                  0   \n",
       "2             0             0                 0         0                  1   \n",
       "3             1             0                 0         1                  0   \n",
       "4             0             0                 0         0                  1   \n",
       "\n",
       "   Payment_method  Monthly_charges  Total_charges  Churn  \n",
       "0               0            29.85          29.85      0  \n",
       "1               1            56.95        1889.50      0  \n",
       "2               1            53.85         108.15      1  \n",
       "3               2            42.30        1840.75      0  \n",
       "4               0            70.70         151.65      1  "
      ]
     },
     "execution_count": 13,
     "metadata": {},
     "output_type": "execute_result"
    }
   ],
   "source": [
    "data.head()"
   ]
  },
  {
   "cell_type": "code",
   "execution_count": 9,
   "metadata": {},
   "outputs": [
    {
     "data": {
      "text/plain": [
       "0    0.734215\n",
       "1    0.265785\n",
       "Name: Churn, dtype: float64"
      ]
     },
     "execution_count": 9,
     "metadata": {},
     "output_type": "execute_result"
    }
   ],
   "source": [
    "data['Churn'].value_counts(normalize=True)"
   ]
  },
  {
   "cell_type": "code",
   "execution_count": 10,
   "metadata": {},
   "outputs": [],
   "source": [
    "#data is not implanced "
   ]
  },
  {
   "cell_type": "code",
   "execution_count": 14,
   "metadata": {},
   "outputs": [
    {
     "name": "stdout",
     "output_type": "stream",
     "text": [
      "X train shape  (5625, 19)\n",
      "X valid shape  (703, 19)\n",
      "X test shape  (704, 19)\n"
     ]
    }
   ],
   "source": [
    "#split data \n",
    "X = data.drop(columns='Churn')\n",
    "y = data['Churn']\n",
    "X_train, X_valid, y_train, y_valid = train_test_split(X , y , test_size=0.2 , shuffle=True , random_state=42 , \n",
    "                                                    stratify=y)\n",
    "\n",
    "X_valid , X_test , y_valid , y_test = train_test_split(X_valid , y_valid , test_size=0.5 , \n",
    "                                                       random_state=42 , stratify=y_valid)\n",
    "\n",
    "print('X train shape ', X_train.shape)\n",
    "print('X valid shape ', X_valid.shape)\n",
    "print('X test shape ' , X_test.shape)\n"
   ]
  },
  {
   "cell_type": "code",
   "execution_count": 16,
   "metadata": {},
   "outputs": [],
   "source": [
    "#Random forest \n",
    "random_forest_pipeline = Pipeline(steps=[ \n",
    "                                         ('model' , RandomForestClassifier(random_state=42 , class_weight='balanced'))])\n"
   ]
  },
  {
   "cell_type": "code",
   "execution_count": 17,
   "metadata": {},
   "outputs": [],
   "source": [
    "random_forest_grid_search = GridSearchCV(estimator=random_forest_pipeline , \n",
    "                                         param_grid={'model__n_estimators':[20, 50 , 100 , 120] , \n",
    "                                                     'model__max_depth':[None , 5, 10 , 15]} , \n",
    "                                         cv=3, scoring= 'f1' ).fit(X_train , y_train)"
   ]
  },
  {
   "cell_type": "code",
   "execution_count": 18,
   "metadata": {},
   "outputs": [
    {
     "data": {
      "text/plain": [
       "0.6352809010372881"
      ]
     },
     "execution_count": 18,
     "metadata": {},
     "output_type": "execute_result"
    }
   ],
   "source": [
    "random_forest_grid_search.best_score_"
   ]
  },
  {
   "cell_type": "code",
   "execution_count": 19,
   "metadata": {},
   "outputs": [],
   "source": [
    "def plot_confusion_metricss(y_pred , y_true , ax , split):\n",
    "    cm = confusion_matrix(y_true , y_pred , normalize='true')\n",
    "    disp = ConfusionMatrixDisplay(cm , display_labels=['No' , 'Yes'])\n",
    "    disp.plot(cmap='Blues' , values_format='.2f' , ax = ax , colorbar=False)\n",
    "    ax.set_title(f\"Normalized Confusion Metrics for {split}\")"
   ]
  },
  {
   "cell_type": "code",
   "execution_count": 20,
   "metadata": {},
   "outputs": [],
   "source": [
    "def get_metrics_reports(model):\n",
    "    y_train_pred = model.predict(X_train)\n",
    "    y_valid_pred = model.predict(X_valid)\n",
    "    y_test_pred = model.predict(X_test)\n",
    "    \n",
    "    print('According to train data ......')\n",
    "    \n",
    "    print(classification_report(y_train , y_train_pred , labels=[0,1]))\n",
    "    \n",
    "    print(f\"Train Acuuracy {accuracy_score(y_train , y_train_pred)*100:0.2f}%\")\n",
    "    \n",
    "    print(\"According to validation data .....\")\n",
    "    \n",
    "    print(classification_report(y_valid , y_valid_pred , labels=[0,1]))\n",
    "    \n",
    "    print(f\"Valid Acuuracy {accuracy_score(y_valid, y_valid_pred)*100:0.2f}%\")\n",
    "    \n",
    "    print(\"According to testing data .....\")\n",
    "    \n",
    "    print(classification_report(y_test , y_test_pred , labels=[0,1]))\n",
    "    \n",
    "    print(f\"Test Acuuracy {accuracy_score(y_test, y_test_pred)*100:0.2f}%\")\n",
    "    \n",
    "    fig , (ax1 , ax2, ax3) = plt.subplots(3, 1 , figsize = (8, 15) , sharey=True)\n",
    "    \n",
    "    plot_confusion_metricss(y_train_pred , y_train , ax1 , split='Train')\n",
    "    \n",
    "    plot_confusion_metricss(y_valid_pred , y_valid , ax2 , split='Valid')\n",
    "    \n",
    "    plot_confusion_metricss(y_test_pred , y_test , ax3 , split='Test')\n",
    "    \n",
    "    plt.show()"
   ]
  },
  {
   "cell_type": "code",
   "execution_count": 21,
   "metadata": {},
   "outputs": [
    {
     "data": {
      "text/html": [
       "<style>#sk-container-id-1 {color: black;}#sk-container-id-1 pre{padding: 0;}#sk-container-id-1 div.sk-toggleable {background-color: white;}#sk-container-id-1 label.sk-toggleable__label {cursor: pointer;display: block;width: 100%;margin-bottom: 0;padding: 0.3em;box-sizing: border-box;text-align: center;}#sk-container-id-1 label.sk-toggleable__label-arrow:before {content: \"▸\";float: left;margin-right: 0.25em;color: #696969;}#sk-container-id-1 label.sk-toggleable__label-arrow:hover:before {color: black;}#sk-container-id-1 div.sk-estimator:hover label.sk-toggleable__label-arrow:before {color: black;}#sk-container-id-1 div.sk-toggleable__content {max-height: 0;max-width: 0;overflow: hidden;text-align: left;background-color: #f0f8ff;}#sk-container-id-1 div.sk-toggleable__content pre {margin: 0.2em;color: black;border-radius: 0.25em;background-color: #f0f8ff;}#sk-container-id-1 input.sk-toggleable__control:checked~div.sk-toggleable__content {max-height: 200px;max-width: 100%;overflow: auto;}#sk-container-id-1 input.sk-toggleable__control:checked~label.sk-toggleable__label-arrow:before {content: \"▾\";}#sk-container-id-1 div.sk-estimator input.sk-toggleable__control:checked~label.sk-toggleable__label {background-color: #d4ebff;}#sk-container-id-1 div.sk-label input.sk-toggleable__control:checked~label.sk-toggleable__label {background-color: #d4ebff;}#sk-container-id-1 input.sk-hidden--visually {border: 0;clip: rect(1px 1px 1px 1px);clip: rect(1px, 1px, 1px, 1px);height: 1px;margin: -1px;overflow: hidden;padding: 0;position: absolute;width: 1px;}#sk-container-id-1 div.sk-estimator {font-family: monospace;background-color: #f0f8ff;border: 1px dotted black;border-radius: 0.25em;box-sizing: border-box;margin-bottom: 0.5em;}#sk-container-id-1 div.sk-estimator:hover {background-color: #d4ebff;}#sk-container-id-1 div.sk-parallel-item::after {content: \"\";width: 100%;border-bottom: 1px solid gray;flex-grow: 1;}#sk-container-id-1 div.sk-label:hover label.sk-toggleable__label {background-color: #d4ebff;}#sk-container-id-1 div.sk-serial::before {content: \"\";position: absolute;border-left: 1px solid gray;box-sizing: border-box;top: 0;bottom: 0;left: 50%;z-index: 0;}#sk-container-id-1 div.sk-serial {display: flex;flex-direction: column;align-items: center;background-color: white;padding-right: 0.2em;padding-left: 0.2em;position: relative;}#sk-container-id-1 div.sk-item {position: relative;z-index: 1;}#sk-container-id-1 div.sk-parallel {display: flex;align-items: stretch;justify-content: center;background-color: white;position: relative;}#sk-container-id-1 div.sk-item::before, #sk-container-id-1 div.sk-parallel-item::before {content: \"\";position: absolute;border-left: 1px solid gray;box-sizing: border-box;top: 0;bottom: 0;left: 50%;z-index: -1;}#sk-container-id-1 div.sk-parallel-item {display: flex;flex-direction: column;z-index: 1;position: relative;background-color: white;}#sk-container-id-1 div.sk-parallel-item:first-child::after {align-self: flex-end;width: 50%;}#sk-container-id-1 div.sk-parallel-item:last-child::after {align-self: flex-start;width: 50%;}#sk-container-id-1 div.sk-parallel-item:only-child::after {width: 0;}#sk-container-id-1 div.sk-dashed-wrapped {border: 1px dashed gray;margin: 0 0.4em 0.5em 0.4em;box-sizing: border-box;padding-bottom: 0.4em;background-color: white;}#sk-container-id-1 div.sk-label label {font-family: monospace;font-weight: bold;display: inline-block;line-height: 1.2em;}#sk-container-id-1 div.sk-label-container {text-align: center;}#sk-container-id-1 div.sk-container {/* jupyter's `normalize.less` sets `[hidden] { display: none; }` but bootstrap.min.css set `[hidden] { display: none !important; }` so we also need the `!important` here to be able to override the default hidden behavior on the sphinx rendered scikit-learn.org. See: https://github.com/scikit-learn/scikit-learn/issues/21755 */display: inline-block !important;position: relative;}#sk-container-id-1 div.sk-text-repr-fallback {display: none;}</style><div id=\"sk-container-id-1\" class=\"sk-top-container\"><div class=\"sk-text-repr-fallback\"><pre>Pipeline(steps=[(&#x27;model&#x27;,\n",
       "                 RandomForestClassifier(class_weight=&#x27;balanced&#x27;, max_depth=5,\n",
       "                                        random_state=42))])</pre><b>In a Jupyter environment, please rerun this cell to show the HTML representation or trust the notebook. <br />On GitHub, the HTML representation is unable to render, please try loading this page with nbviewer.org.</b></div><div class=\"sk-container\" hidden><div class=\"sk-item sk-dashed-wrapped\"><div class=\"sk-label-container\"><div class=\"sk-label sk-toggleable\"><input class=\"sk-toggleable__control sk-hidden--visually\" id=\"sk-estimator-id-1\" type=\"checkbox\" ><label for=\"sk-estimator-id-1\" class=\"sk-toggleable__label sk-toggleable__label-arrow\">Pipeline</label><div class=\"sk-toggleable__content\"><pre>Pipeline(steps=[(&#x27;model&#x27;,\n",
       "                 RandomForestClassifier(class_weight=&#x27;balanced&#x27;, max_depth=5,\n",
       "                                        random_state=42))])</pre></div></div></div><div class=\"sk-serial\"><div class=\"sk-item\"><div class=\"sk-estimator sk-toggleable\"><input class=\"sk-toggleable__control sk-hidden--visually\" id=\"sk-estimator-id-2\" type=\"checkbox\" ><label for=\"sk-estimator-id-2\" class=\"sk-toggleable__label sk-toggleable__label-arrow\">RandomForestClassifier</label><div class=\"sk-toggleable__content\"><pre>RandomForestClassifier(class_weight=&#x27;balanced&#x27;, max_depth=5, random_state=42)</pre></div></div></div></div></div></div></div>"
      ],
      "text/plain": [
       "Pipeline(steps=[('model',\n",
       "                 RandomForestClassifier(class_weight='balanced', max_depth=5,\n",
       "                                        random_state=42))])"
      ]
     },
     "execution_count": 21,
     "metadata": {},
     "output_type": "execute_result"
    }
   ],
   "source": [
    "best_random_forest_model = random_forest_grid_search.best_estimator_\n",
    "best_random_forest_model"
   ]
  },
  {
   "cell_type": "code",
   "execution_count": 22,
   "metadata": {},
   "outputs": [
    {
     "name": "stdout",
     "output_type": "stream",
     "text": [
      "According to train data ......\n",
      "              precision    recall  f1-score   support\n",
      "\n",
      "           0       0.92      0.75      0.82      4130\n",
      "           1       0.54      0.82      0.65      1495\n",
      "\n",
      "    accuracy                           0.77      5625\n",
      "   macro avg       0.73      0.78      0.74      5625\n",
      "weighted avg       0.82      0.77      0.78      5625\n",
      "\n",
      "Train Acuuracy 76.64%\n",
      "According to validation data .....\n",
      "              precision    recall  f1-score   support\n",
      "\n",
      "           0       0.88      0.69      0.77       516\n",
      "           1       0.46      0.74      0.57       187\n",
      "\n",
      "    accuracy                           0.70       703\n",
      "   macro avg       0.67      0.72      0.67       703\n",
      "weighted avg       0.77      0.70      0.72       703\n",
      "\n",
      "Valid Acuuracy 70.41%\n",
      "According to testing data .....\n",
      "              precision    recall  f1-score   support\n",
      "\n",
      "           0       0.92      0.73      0.82       517\n",
      "           1       0.53      0.82      0.64       187\n",
      "\n",
      "    accuracy                           0.76       704\n",
      "   macro avg       0.72      0.78      0.73       704\n",
      "weighted avg       0.81      0.76      0.77       704\n",
      "\n",
      "Test Acuuracy 75.57%\n"
     ]
    },
    {
     "data": {
      "image/png": "[encoded data removed]",
      "text/plain": [
       "<Figure size 800x1500 with 3 Axes>"
      ]
     },
     "metadata": {},
     "output_type": "display_data"
    }
   ],
   "source": [
    "get_metrics_reports(best_random_forest_model)"
   ]
  },
  {
   "cell_type": "markdown",
   "metadata": {},
   "source": [
    "## Conclusion\n",
    "The model generally performs well on Class 0, with high precision and moderate recall across all datasets. However, for Class 1, there's a notable trade-off between precision and recall, indicating that the model might be over-predicting the positive class, leading to more false positives. Further tuning may be required to improve balance, especially for the positive class (Class 1).\n",
    "\n",
    "## Suggestion\n",
    "we can apply smote technique to handle imblance data and also use anthor tree based model that follow boosting technique\n",
    "such xgboost but here we do proof of concept so our target is how to make llm model make classification by utilizing \n",
    "the capability of llim to extract information then passed to classification model"
   ]
  },
  {
   "cell_type": "code",
   "execution_count": 24,
   "metadata": {},
   "outputs": [],
   "source": [
    "#save model\n",
    "with open('../models/model.pkl', 'wb') as file:\n",
    "    pickle.dump(best_random_forest_model, file)"
   ]
  },
  {
   "cell_type": "code",
   "execution_count": null,
   "metadata": {},
   "outputs": [],
   "source": []
  }
 ],
 "metadata": {
  "kernelspec": {
   "display_name": "base",
   "language": "python",
   "name": "python3"
  },
  "language_info": {
   "codemirror_mode": {
    "name": "ipython",
    "version": 3
   },
   "file_extension": ".py",
   "mimetype": "text/x-python",
   "name": "python",
   "nbconvert_exporter": "python",
   "pygments_lexer": "ipython3",
   "version": "3.10.13"
  }
 },
 "nbformat": 4,
 "nbformat_minor": 2
}
